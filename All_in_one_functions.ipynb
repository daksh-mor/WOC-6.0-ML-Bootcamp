{
 "cells": [
  {
   "cell_type": "markdown",
   "id": "92992adb",
   "metadata": {},
   "source": [
    "# Library containing all the required functions for ML algos"
   ]
  },
  {
   "cell_type": "code",
   "execution_count": 1,
   "id": "c76b768f",
   "metadata": {},
   "outputs": [],
   "source": [
    "# prerequisites \n",
    "import numpy as np\n",
    "import pandas as pd\n",
    "import matplotlib.pyplot as plt"
   ]
  },
  {
   "cell_type": "markdown",
   "id": "dec3cd9d",
   "metadata": {},
   "source": [
    "## 1-Linear Regression"
   ]
  },
  {
   "cell_type": "code",
   "execution_count": 8,
   "id": "6aae64c7",
   "metadata": {},
   "outputs": [],
   "source": [
    "def compute_cost(x,y,w,b):\n",
    "    return (np.sum((np.matmul(x,w.T)+b-y)**2))/(2*x.shape[0])\n",
    "\n",
    "def compute_gradient(x,y,w,b):\n",
    "    var = (np.matmul(x,w.T)+b-y) #where var = w.x+b-y\n",
    "    m,n=x.shape #where m = number of labels and n = number of features\n",
    "    dj_db = np.sum(var)\n",
    "    dj_dw = np.matmul(var.T,x)\n",
    "    return dj_dw/m,dj_db/m\n",
    "\n",
    "def z_score_normalization(x):\n",
    "    mean_values = np.mean(x, axis=0)\n",
    "    std_deviation = np.std(x, axis=0)\n",
    "    z_score_normalized_data = (x - mean_values) / std_deviation\n",
    "    return z_score_normalized_data , mean_values , std_deviation\n",
    "\n",
    "def gradient_descent(x,y,w,b,alpha,num_iter):\n",
    "    dj_dw,dj_db = compute_gradient(x,y,w,b)\n",
    "    cost_his = [\"starting\"]\n",
    "    for i in range(num_iter):    \n",
    "        w-=alpha*dj_dw\n",
    "        b-=alpha*dj_db\n",
    "        if i%(num_iter//10)==0:\n",
    "            print(f'Cost for {i}th iteration = {cost_his[i]}')\n",
    "        cost_his.append(compute_cost(x,y,w,b))\n",
    "    return w,b,cost_his\n",
    "\n",
    "def plotting_costVSnum_iter(cost,num_iter):\n",
    "    plt.title(\"Cost VS number of iterations graph\")\n",
    "    plt.xlabel(\"Number of iterations\")\n",
    "    plt.ylabel(\"Cost (error)\")\n",
    "    plt.plot(np.arange(0,num_iter),cost)\n",
    "    plt.show()\n",
    "\n",
    "def R2score(y_actual, y_predicted):\n",
    "    y_mean_of_actual = np.mean(y_actual)\n",
    "    a = np.sum(np.square(y_actual - y_predicted))\n",
    "    b = np.sum(np.square(y_actual - y_mean_of_actual))\n",
    "    R2 = 1 - (a / b)\n",
    "    return R2"
   ]
  },
  {
   "cell_type": "markdown",
   "id": "c6fd79bd",
   "metadata": {},
   "source": [
    "## 2-Polynomial Regression"
   ]
  },
  {
   "cell_type": "code",
   "execution_count": null,
   "id": "d7c6a095",
   "metadata": {},
   "outputs": [],
   "source": [
    "#note this is for 3 features standard polynomial only \n",
    "def standard_poly(deg,x_train):\n",
    "    x_f = np.zeros(x_train[:,0].reshape(-1,1).shape)\n",
    "    for i in range(deg+1):\n",
    "        for j in range(deg+1-i):\n",
    "            for k in range(deg+1-j-i):\n",
    "                ans = (x_train[:,0].reshape(-1,1)**i)*(x_train[:,1].reshape(-1,1)**j)*(x_train[:,2].reshape(-1,1)**k)\n",
    "                x_f = np.concatenate((x_f,ans),axis=1)\n",
    "    return x_f"
   ]
  },
  {
   "cell_type": "markdown",
   "id": "64b06c4d",
   "metadata": {},
   "source": [
    "## 3-Logistic Regression"
   ]
  },
  {
   "cell_type": "code",
   "execution_count": null,
   "id": "6d6a1d8a",
   "metadata": {},
   "outputs": [],
   "source": [
    "def sigmoid(x):\n",
    "    ans = 1/(1+np.exp(-x))\n",
    "    return ans\n",
    "\n",
    "def compute_gradient_logistic(x,y,w,b):\n",
    "    z= np.dot(x,w)+b\n",
    "    variable = sigmoid(z)-y\n",
    "    m,n=x.shape\n",
    "    dj_dw = np.matmul(x.T,variable)\n",
    "    dj_db = np.sum(variable,axis=0)\n",
    "    dj_dw/=m\n",
    "    dj_db/=m\n",
    "    return dj_dw,dj_db\n",
    "\n",
    "def compute_cost_logistic(x,y,w,b):\n",
    "    z= np.matmul(x,w)+b\n",
    "    fx=sigmoid(z)\n",
    "    m,n=x.shape\n",
    "    epsilon = 1e-5\n",
    "    loss = -y*np.log(fx+epsilon)-(1-y)*np.log(1-fx+epsilon )\n",
    "    cost = np.sum(loss,axis =0)\n",
    "    cost = cost/m\n",
    "    return cost\n",
    "\n",
    "def gradient_descent_logistic(x,y,w,b,alpha,num_iter):\n",
    "    J_his=[]\n",
    "    for i in range(num_iter):\n",
    "        dj_dw,dj_db=compute_gradient_logistic(x,y,w,b)\n",
    "        w-=alpha*dj_dw\n",
    "        b-=alpha*dj_db\n",
    "        cost = compute_cost_logistic(x,y,w,b)\n",
    "        J_his.append(cost)\n",
    "        if i%(num_iter//100)==0:\n",
    "            print(f'{i}th number of itertion with cost : {cost}')\n",
    "    return w,b,J_his\n",
    "\n",
    "def oneVSall(y_t):\n",
    "    y_unique = np.unique(y_t)\n",
    "    y_final = np.zeros((y_t.shape[0],len(y_unique)))\n",
    "    for i in range(y_t.shape[0]):\n",
    "        for j in range(len(y_unique)):\n",
    "            if y_t[i]==y_unique[j]:\n",
    "                y_final[i][j]=1\n",
    "    return y_final\n",
    "\n",
    "def Prediction(y):\n",
    "    row_wise_max_value_arr = np.amax(y,axis=1)\n",
    "    m,n = y.shape\n",
    "    y_prediction = []\n",
    "    for i in range(m):\n",
    "        for j in range(n):\n",
    "            if row_wise_max_value_arr[i]==y[i][j]:\n",
    "                y_prediction.append(j)\n",
    "    return y_prediction\n",
    "\n",
    "def calculate_accuracy(predictions, true_labels):\n",
    "    m = predictions.shape[0]\n",
    "    c=0\n",
    "    for i in range(m):\n",
    "        if predictions[i] == true_labels[i] :\n",
    "            c+=1\n",
    "    return c/m*100"
   ]
  },
  {
   "cell_type": "markdown",
   "id": "b91f5181",
   "metadata": {},
   "source": [
    "## Neural Network "
   ]
  },
  {
   "cell_type": "code",
   "execution_count": null,
   "id": "d73355b7",
   "metadata": {},
   "outputs": [],
   "source": [
    "def softmax(z):\n",
    "    ans = np.exp(z)/(np.sum(np.exp(z),axis =0))\n",
    "    return ans"
   ]
  }
 ],
 "metadata": {
  "kernelspec": {
   "display_name": "Python 3 (ipykernel)",
   "language": "python",
   "name": "python3"
  },
  "language_info": {
   "codemirror_mode": {
    "name": "ipython",
    "version": 3
   },
   "file_extension": ".py",
   "mimetype": "text/x-python",
   "name": "python",
   "nbconvert_exporter": "python",
   "pygments_lexer": "ipython3",
   "version": "3.11.5"
  }
 },
 "nbformat": 4,
 "nbformat_minor": 5
}
