{
 "cells": [
  {
   "cell_type": "markdown",
   "id": "107f815c",
   "metadata": {},
   "source": [
    "# Polynomial Regression"
   ]
  },
  {
   "cell_type": "code",
   "execution_count": 1,
   "id": "82a45048",
   "metadata": {},
   "outputs": [],
   "source": [
    "# prerequisites \n",
    "import numpy as np\n",
    "import pandas as pd\n",
    "import matplotlib.pyplot as plt"
   ]
  },
  {
   "cell_type": "markdown",
   "id": "71913e19",
   "metadata": {},
   "source": [
    "## Defining all used functions first"
   ]
  },
  {
   "cell_type": "code",
   "execution_count": 2,
   "id": "6bf56bd8",
   "metadata": {},
   "outputs": [],
   "source": [
    "#note this is for 3 features standard polynomial only \n",
    "def standard_poly(deg,x_train):\n",
    "    arr =[]\n",
    "    for i in range(deg+1):\n",
    "        for j in range(deg+1-i):\n",
    "            for k in range(deg+1-j-i):\n",
    "                arr.append((x_train[:,0].reshape(-1,1)**i)*(x_train[:,1].reshape(-1,1)**j)*(x_train[:,2].reshape(-1,1)**k))\n",
    "    return np.array(arr).reshape(len(arr),x_train.shape[0])\n",
    "\n",
    "def compute_cost(x,y,w,b):\n",
    "    return (np.sum((np.matmul(x,w.T)+b-y)**2))/(2*x.shape[0])\n",
    "\n",
    "def compute_gradient(x,y,w,b):\n",
    "    variab = (np.dot(x,w.T)+b-y) #where variable = w.x+b-y\n",
    "    m,n=x.shape #where m = number of observations and n = number of features\n",
    "    dj_db = np.mean(variab,axis=0)\n",
    "    dj_dw = (np.dot(variab.T,x))/x.shape[0]\n",
    "    return dj_dw,dj_db\n",
    "\n",
    "def z_score_normalization(x):\n",
    "    mean_values = np.mean(x, axis=0)\n",
    "    std_deviation = np.std(x, axis=0)\n",
    "    z_score_normalized_data = (x - mean_values) / std_deviation\n",
    "    return z_score_normalized_data , mean_values , std_deviation\n",
    "\n",
    "def gradient_descent(x,y,w,b,alpha,num_iter):\n",
    "    \n",
    "    cost_his = [\"starting\"]\n",
    "    for i in range(num_iter): \n",
    "        dj_dw,dj_db = compute_gradient(x,y,w,b)\n",
    "        w-=alpha*dj_dw\n",
    "        b-=alpha*dj_db\n",
    "        if i%(num_iter//10)==0:\n",
    "            print(f'Cost for {i}th iteration = {cost_his[i]}')\n",
    "        cost_his.append(compute_cost(x,y,w,b))\n",
    "    return w,b,np.array(cost_his[1:])\n",
    "\n",
    "def plotting_costVSnum_iter(cost,num_iter):\n",
    "    plt.title(\"Cost VS number of iterations graph\")\n",
    "    plt.xlabel(\"Number of iterations\")\n",
    "    plt.ylabel(\"Cost (error)\")\n",
    "    plt.plot(np.arange(0,num_iter),cost)\n",
    "    plt.show()\n",
    "\n",
    "def R2score(y_actual, y_predicted):\n",
    "    y_mean_of_actual = np.mean(y_actual)\n",
    "    a = np.sum(np.square(y_actual - y_predicted))\n",
    "    b = np.sum(np.square(y_actual - y_mean_of_actual))\n",
    "    R2 = 1 - (a / b)\n",
    "    return R2"
   ]
  },
  {
   "cell_type": "markdown",
   "id": "e4a95a25",
   "metadata": {},
   "source": [
    "### Reading the given data and visualizing it"
   ]
  },
  {
   "cell_type": "code",
   "execution_count": 3,
   "id": "6d245389",
   "metadata": {},
   "outputs": [
    {
     "data": {
      "text/html": [
       "<div>\n",
       "<style scoped>\n",
       "    .dataframe tbody tr th:only-of-type {\n",
       "        vertical-align: middle;\n",
       "    }\n",
       "\n",
       "    .dataframe tbody tr th {\n",
       "        vertical-align: top;\n",
       "    }\n",
       "\n",
       "    .dataframe thead th {\n",
       "        text-align: right;\n",
       "    }\n",
       "</style>\n",
       "<table border=\"1\" class=\"dataframe\">\n",
       "  <thead>\n",
       "    <tr style=\"text-align: right;\">\n",
       "      <th></th>\n",
       "      <th>target</th>\n",
       "      <th>feature 1</th>\n",
       "      <th>feature 2</th>\n",
       "      <th>feature 3</th>\n",
       "    </tr>\n",
       "  </thead>\n",
       "  <tbody>\n",
       "    <tr>\n",
       "      <th>0</th>\n",
       "      <td>4.131528e+06</td>\n",
       "      <td>5.221849</td>\n",
       "      <td>7.295111</td>\n",
       "      <td>95.716846</td>\n",
       "    </tr>\n",
       "    <tr>\n",
       "      <th>1</th>\n",
       "      <td>3.172975e-01</td>\n",
       "      <td>-5.106284</td>\n",
       "      <td>4.220085</td>\n",
       "      <td>-6.172360</td>\n",
       "    </tr>\n",
       "    <tr>\n",
       "      <th>2</th>\n",
       "      <td>4.676422e+04</td>\n",
       "      <td>-4.218053</td>\n",
       "      <td>-7.573823</td>\n",
       "      <td>-39.493884</td>\n",
       "    </tr>\n",
       "    <tr>\n",
       "      <th>3</th>\n",
       "      <td>1.404175e+05</td>\n",
       "      <td>-18.439122</td>\n",
       "      <td>-2.275148</td>\n",
       "      <td>-40.885857</td>\n",
       "    </tr>\n",
       "    <tr>\n",
       "      <th>4</th>\n",
       "      <td>4.788988e+03</td>\n",
       "      <td>13.353046</td>\n",
       "      <td>3.103837</td>\n",
       "      <td>18.622367</td>\n",
       "    </tr>\n",
       "    <tr>\n",
       "      <th>...</th>\n",
       "      <td>...</td>\n",
       "      <td>...</td>\n",
       "      <td>...</td>\n",
       "      <td>...</td>\n",
       "    </tr>\n",
       "    <tr>\n",
       "      <th>49995</th>\n",
       "      <td>1.853922e+04</td>\n",
       "      <td>-25.309264</td>\n",
       "      <td>-6.094516</td>\n",
       "      <td>75.361431</td>\n",
       "    </tr>\n",
       "    <tr>\n",
       "      <th>49996</th>\n",
       "      <td>6.379917e+03</td>\n",
       "      <td>-58.016982</td>\n",
       "      <td>-6.064214</td>\n",
       "      <td>27.146387</td>\n",
       "    </tr>\n",
       "    <tr>\n",
       "      <th>49997</th>\n",
       "      <td>3.835601e+06</td>\n",
       "      <td>29.857894</td>\n",
       "      <td>1.422973</td>\n",
       "      <td>75.620505</td>\n",
       "    </tr>\n",
       "    <tr>\n",
       "      <th>49998</th>\n",
       "      <td>2.580318e+04</td>\n",
       "      <td>10.793146</td>\n",
       "      <td>1.215972</td>\n",
       "      <td>34.437761</td>\n",
       "    </tr>\n",
       "    <tr>\n",
       "      <th>49999</th>\n",
       "      <td>3.468171e+05</td>\n",
       "      <td>12.171702</td>\n",
       "      <td>-0.798756</td>\n",
       "      <td>60.245990</td>\n",
       "    </tr>\n",
       "  </tbody>\n",
       "</table>\n",
       "<p>50000 rows × 4 columns</p>\n",
       "</div>"
      ],
      "text/plain": [
       "             target  feature 1  feature 2  feature 3\n",
       "0      4.131528e+06   5.221849   7.295111  95.716846\n",
       "1      3.172975e-01  -5.106284   4.220085  -6.172360\n",
       "2      4.676422e+04  -4.218053  -7.573823 -39.493884\n",
       "3      1.404175e+05 -18.439122  -2.275148 -40.885857\n",
       "4      4.788988e+03  13.353046   3.103837  18.622367\n",
       "...             ...        ...        ...        ...\n",
       "49995  1.853922e+04 -25.309264  -6.094516  75.361431\n",
       "49996  6.379917e+03 -58.016982  -6.064214  27.146387\n",
       "49997  3.835601e+06  29.857894   1.422973  75.620505\n",
       "49998  2.580318e+04  10.793146   1.215972  34.437761\n",
       "49999  3.468171e+05  12.171702  -0.798756  60.245990\n",
       "\n",
       "[50000 rows x 4 columns]"
      ]
     },
     "execution_count": 3,
     "metadata": {},
     "output_type": "execute_result"
    }
   ],
   "source": [
    "df = pd.read_csv('train_data/Polynomialdata_train.csv')\n",
    "df"
   ]
  },
  {
   "cell_type": "code",
   "execution_count": 4,
   "id": "add01015",
   "metadata": {},
   "outputs": [],
   "source": [
    "#converting datafram to numpy and assigning it to x_train and y_train\n",
    "df2=df.to_numpy()\n",
    "x_t = df2[:,1:]\n",
    "y_train = df2[:,0]\n",
    "x_train , mean1,std_deviation1= z_score_normalization(x_t) #Applying Normalization for efficiency"
   ]
  },
  {
   "cell_type": "code",
   "execution_count": 5,
   "id": "f8abd6a6",
   "metadata": {},
   "outputs": [
    {
     "data": {
      "text/plain": [
       "(232.6831836057284, 4.408087291804612)"
      ]
     },
     "execution_count": 5,
     "metadata": {},
     "output_type": "execute_result"
    }
   ],
   "source": [
    "x_t.max() , x_train.max()"
   ]
  },
  {
   "cell_type": "code",
   "execution_count": 6,
   "id": "bef560fe",
   "metadata": {},
   "outputs": [
    {
     "data": {
      "text/plain": [
       "<matplotlib.collections.PathCollection at 0x1830f0a5a90>"
      ]
     },
     "execution_count": 6,
     "metadata": {},
     "output_type": "execute_result"
    },
    {
     "data": {
      "image/png": "[encoded data removed]",
      "text/plain": [
       "<Figure size 640x480 with 1 Axes>"
      ]
     },
     "metadata": {},
     "output_type": "display_data"
    }
   ],
   "source": [
    "#visualising the data \n",
    "plt.scatter(x_train[:,2],y_train)"
   ]
  },
  {
   "cell_type": "markdown",
   "id": "e8d731f9",
   "metadata": {},
   "source": [
    "### Using standard Polynomial function for Poly Regression and taking 6 degree polynomial"
   ]
  },
  {
   "cell_type": "code",
   "execution_count": 7,
   "id": "672d4844",
   "metadata": {},
   "outputs": [],
   "source": [
    "x_f = standard_poly(6,x_train).T[:,1:] #6 degree polynomial after testing all different polynomials"
   ]
  },
  {
   "cell_type": "code",
   "execution_count": 8,
   "id": "0b5245f4",
   "metadata": {},
   "outputs": [
    {
     "data": {
      "text/plain": [
       "10520.72233765989"
      ]
     },
     "execution_count": 8,
     "metadata": {},
     "output_type": "execute_result"
    }
   ],
   "source": [
    "x_f.max()"
   ]
  },
  {
   "cell_type": "code",
   "execution_count": 9,
   "id": "bd481fe7",
   "metadata": {},
   "outputs": [],
   "source": [
    "x_f,mean2,std_dev2 = z_score_normalization(x_f) #applying normalization again"
   ]
  },
  {
   "cell_type": "code",
   "execution_count": 10,
   "id": "63354802",
   "metadata": {},
   "outputs": [
    {
     "data": {
      "text/plain": [
       "105.61789084990133"
      ]
     },
     "execution_count": 10,
     "metadata": {},
     "output_type": "execute_result"
    }
   ],
   "source": [
    "x_f.max()"
   ]
  },
  {
   "cell_type": "markdown",
   "id": "a89b365f",
   "metadata": {},
   "source": [
    "### Splitting the data into training and cross validation"
   ]
  },
  {
   "cell_type": "code",
   "execution_count": 11,
   "id": "6ff998d9",
   "metadata": {},
   "outputs": [],
   "source": [
    "x_train_data = x_f[:45000,:]\n",
    "y_train_data = y_train[:45000].reshape(-1,1)\n",
    "x_cv = x_f[45000:,:]\n",
    "y_cv = y_train[45000:].reshape(-1,1)"
   ]
  },
  {
   "cell_type": "markdown",
   "id": "3dde3955",
   "metadata": {},
   "source": [
    "### Now Applying gradient descent algo with num_iter=100"
   ]
  },
  {
   "cell_type": "code",
   "execution_count": null,
   "id": "e4e5d42c",
   "metadata": {},
   "outputs": [
    {
     "name": "stdout",
     "output_type": "stream",
     "text": [
      "Cost for 0th iteration = starting\n"
     ]
    }
   ],
   "source": [
    "import time\n",
    "s=time.time()\n",
    "alpha = 0.27\n",
    "w=np.zeros((1,x_f.shape[1]))\n",
    "b=np.array([[0.0]])\n",
    "num_iter = 10000\n",
    "w_n,b_n,cost_n = gradient_descent(x_train_data,y_train_data,w,b,alpha,num_iter)\n",
    "print(f\"Time Taken = {(time.time()-s)/60} mins\")"
   ]
  },
  {
   "cell_type": "code",
   "execution_count": 13,
   "id": "11a5dc60",
   "metadata": {},
   "outputs": [
    {
     "data": {
      "image/png": "[encoded data removed]",
      "text/plain": [
       "<Figure size 640x480 with 1 Axes>"
      ]
     },
     "metadata": {},
     "output_type": "display_data"
    },
    {
     "name": "stdout",
     "output_type": "stream",
     "text": [
      "Minimum cost = 6.437621713661311e-13\n"
     ]
    }
   ],
   "source": [
    "plotting_costVSnum_iter(cost_n,num_iter)\n",
    "print(f'Minimum cost = {cost_n.min()}')"
   ]
  },
  {
   "cell_type": "markdown",
   "id": "c9774a4d",
   "metadata": {},
   "source": [
    "### checking cross validation set and training set R2 score "
   ]
  },
  {
   "cell_type": "code",
   "execution_count": 14,
   "id": "a2923e91",
   "metadata": {},
   "outputs": [
    {
     "name": "stdout",
     "output_type": "stream",
     "text": [
      "Training set R2 score :  1.0\n",
      "Cross validation set R2 score :  1.0\n"
     ]
    }
   ],
   "source": [
    "print(\"Training set R2 score : \" , R2score(y_train_data,np.matmul(x_train_data,w_n.T)+b_n)) #train\n",
    "print(\"Cross validation set R2 score : \", R2score(y_cv,np.matmul(x_cv,w_n.T)+b_n)) #cv"
   ]
  },
  {
   "cell_type": "markdown",
   "id": "c84abffb",
   "metadata": {},
   "source": [
    "### Predicting the output for test data"
   ]
  },
  {
   "cell_type": "code",
   "execution_count": 15,
   "id": "0feca1b5",
   "metadata": {},
   "outputs": [
    {
     "data": {
      "text/html": [
       "<div>\n",
       "<style scoped>\n",
       "    .dataframe tbody tr th:only-of-type {\n",
       "        vertical-align: middle;\n",
       "    }\n",
       "\n",
       "    .dataframe tbody tr th {\n",
       "        vertical-align: top;\n",
       "    }\n",
       "\n",
       "    .dataframe thead th {\n",
       "        text-align: right;\n",
       "    }\n",
       "</style>\n",
       "<table border=\"1\" class=\"dataframe\">\n",
       "  <thead>\n",
       "    <tr style=\"text-align: right;\">\n",
       "      <th></th>\n",
       "      <th>ID</th>\n",
       "      <th>feature 1</th>\n",
       "      <th>feature 2</th>\n",
       "      <th>feature 3</th>\n",
       "    </tr>\n",
       "  </thead>\n",
       "  <tbody>\n",
       "    <tr>\n",
       "      <th>0</th>\n",
       "      <td>16588</td>\n",
       "      <td>36.247643</td>\n",
       "      <td>-2.372704</td>\n",
       "      <td>43.835947</td>\n",
       "    </tr>\n",
       "    <tr>\n",
       "      <th>1</th>\n",
       "      <td>17513</td>\n",
       "      <td>5.903779</td>\n",
       "      <td>5.460086</td>\n",
       "      <td>-96.149414</td>\n",
       "    </tr>\n",
       "    <tr>\n",
       "      <th>2</th>\n",
       "      <td>14448</td>\n",
       "      <td>-37.298157</td>\n",
       "      <td>6.869786</td>\n",
       "      <td>-14.084487</td>\n",
       "    </tr>\n",
       "    <tr>\n",
       "      <th>3</th>\n",
       "      <td>13972</td>\n",
       "      <td>-40.080077</td>\n",
       "      <td>2.395066</td>\n",
       "      <td>-43.432941</td>\n",
       "    </tr>\n",
       "    <tr>\n",
       "      <th>4</th>\n",
       "      <td>18321</td>\n",
       "      <td>-20.417799</td>\n",
       "      <td>-2.194459</td>\n",
       "      <td>5.737226</td>\n",
       "    </tr>\n",
       "    <tr>\n",
       "      <th>...</th>\n",
       "      <td>...</td>\n",
       "      <td>...</td>\n",
       "      <td>...</td>\n",
       "      <td>...</td>\n",
       "    </tr>\n",
       "    <tr>\n",
       "      <th>9995</th>\n",
       "      <td>19691</td>\n",
       "      <td>-13.571554</td>\n",
       "      <td>2.931176</td>\n",
       "      <td>76.902716</td>\n",
       "    </tr>\n",
       "    <tr>\n",
       "      <th>9996</th>\n",
       "      <td>10512</td>\n",
       "      <td>-2.015904</td>\n",
       "      <td>-2.827700</td>\n",
       "      <td>4.999604</td>\n",
       "    </tr>\n",
       "    <tr>\n",
       "      <th>9997</th>\n",
       "      <td>17741</td>\n",
       "      <td>47.095192</td>\n",
       "      <td>-1.977461</td>\n",
       "      <td>39.044902</td>\n",
       "    </tr>\n",
       "    <tr>\n",
       "      <th>9998</th>\n",
       "      <td>18381</td>\n",
       "      <td>-1.808178</td>\n",
       "      <td>-0.693782</td>\n",
       "      <td>57.918628</td>\n",
       "    </tr>\n",
       "    <tr>\n",
       "      <th>9999</th>\n",
       "      <td>12054</td>\n",
       "      <td>19.958034</td>\n",
       "      <td>2.294516</td>\n",
       "      <td>-16.082546</td>\n",
       "    </tr>\n",
       "  </tbody>\n",
       "</table>\n",
       "<p>10000 rows × 4 columns</p>\n",
       "</div>"
      ],
      "text/plain": [
       "         ID  feature 1  feature 2  feature 3\n",
       "0     16588  36.247643  -2.372704  43.835947\n",
       "1     17513   5.903779   5.460086 -96.149414\n",
       "2     14448 -37.298157   6.869786 -14.084487\n",
       "3     13972 -40.080077   2.395066 -43.432941\n",
       "4     18321 -20.417799  -2.194459   5.737226\n",
       "...     ...        ...        ...        ...\n",
       "9995  19691 -13.571554   2.931176  76.902716\n",
       "9996  10512  -2.015904  -2.827700   4.999604\n",
       "9997  17741  47.095192  -1.977461  39.044902\n",
       "9998  18381  -1.808178  -0.693782  57.918628\n",
       "9999  12054  19.958034   2.294516 -16.082546\n",
       "\n",
       "[10000 rows x 4 columns]"
      ]
     },
     "execution_count": 15,
     "metadata": {},
     "output_type": "execute_result"
    }
   ],
   "source": [
    "df_tes = pd.read_csv('test_data/Polynomialdata_test.csv')\n",
    "df_test = df_tes.to_numpy()\n",
    "df_tes"
   ]
  },
  {
   "cell_type": "code",
   "execution_count": 16,
   "id": "190f94d9",
   "metadata": {},
   "outputs": [],
   "source": [
    "x_tes = df_test[:,1:]\n",
    "x_test2 = (x_tes-mean1)/std_deviation1 "
   ]
  },
  {
   "cell_type": "code",
   "execution_count": 17,
   "id": "cd4a52a5",
   "metadata": {},
   "outputs": [],
   "source": [
    "x_1 = standard_poly(6,x_test2)\n",
    "x_2 = x_1.T[:,1:]\n",
    "x_test = (x_2-mean2)/std_dev2"
   ]
  },
  {
   "cell_type": "code",
   "execution_count": 18,
   "id": "b3b14efd",
   "metadata": {},
   "outputs": [],
   "source": [
    "y_predicted = np.matmul(x_test,w_n.T)+b_n"
   ]
  },
  {
   "cell_type": "code",
   "execution_count": 19,
   "id": "7596cb0c",
   "metadata": {},
   "outputs": [],
   "source": [
    "#Converting Predicted data to csv\n",
    "final_data = np.concatenate((df_test[:,0].reshape(-1,1),y_predicted.reshape(-1,1)),axis=1)"
   ]
  },
  {
   "cell_type": "code",
   "execution_count": 20,
   "id": "7b9a5184",
   "metadata": {},
   "outputs": [],
   "source": [
    "data_frame = pd.DataFrame(final_data)\n",
    "data_frame.columns = [\"ID's\", 'Predictions']"
   ]
  },
  {
   "cell_type": "code",
   "execution_count": 21,
   "id": "7b40360c",
   "metadata": {},
   "outputs": [
    {
     "data": {
      "text/html": [
       "<div>\n",
       "<style scoped>\n",
       "    .dataframe tbody tr th:only-of-type {\n",
       "        vertical-align: middle;\n",
       "    }\n",
       "\n",
       "    .dataframe tbody tr th {\n",
       "        vertical-align: top;\n",
       "    }\n",
       "\n",
       "    .dataframe thead th {\n",
       "        text-align: right;\n",
       "    }\n",
       "</style>\n",
       "<table border=\"1\" class=\"dataframe\">\n",
       "  <thead>\n",
       "    <tr style=\"text-align: right;\">\n",
       "      <th></th>\n",
       "      <th>ID's</th>\n",
       "      <th>Predictions</th>\n",
       "    </tr>\n",
       "  </thead>\n",
       "  <tbody>\n",
       "    <tr>\n",
       "      <th>0</th>\n",
       "      <td>16588.0</td>\n",
       "      <td>566024.053595</td>\n",
       "    </tr>\n",
       "    <tr>\n",
       "      <th>1</th>\n",
       "      <td>17513.0</td>\n",
       "      <td>954693.466723</td>\n",
       "    </tr>\n",
       "    <tr>\n",
       "      <th>2</th>\n",
       "      <td>14448.0</td>\n",
       "      <td>19975.649684</td>\n",
       "    </tr>\n",
       "    <tr>\n",
       "      <th>3</th>\n",
       "      <td>13972.0</td>\n",
       "      <td>732186.076918</td>\n",
       "    </tr>\n",
       "    <tr>\n",
       "      <th>4</th>\n",
       "      <td>18321.0</td>\n",
       "      <td>58.566734</td>\n",
       "    </tr>\n",
       "    <tr>\n",
       "      <th>...</th>\n",
       "      <td>...</td>\n",
       "      <td>...</td>\n",
       "    </tr>\n",
       "    <tr>\n",
       "      <th>9995</th>\n",
       "      <td>19691.0</td>\n",
       "      <td>217537.380927</td>\n",
       "    </tr>\n",
       "    <tr>\n",
       "      <th>9996</th>\n",
       "      <td>10512.0</td>\n",
       "      <td>0.000122</td>\n",
       "    </tr>\n",
       "    <tr>\n",
       "      <th>9997</th>\n",
       "      <td>17741.0</td>\n",
       "      <td>913425.782931</td>\n",
       "    </tr>\n",
       "    <tr>\n",
       "      <th>9998</th>\n",
       "      <td>18381.0</td>\n",
       "      <td>74434.821230</td>\n",
       "    </tr>\n",
       "    <tr>\n",
       "      <th>9999</th>\n",
       "      <td>12054.0</td>\n",
       "      <td>0.836384</td>\n",
       "    </tr>\n",
       "  </tbody>\n",
       "</table>\n",
       "<p>10000 rows × 2 columns</p>\n",
       "</div>"
      ],
      "text/plain": [
       "         ID's    Predictions\n",
       "0     16588.0  566024.053595\n",
       "1     17513.0  954693.466723\n",
       "2     14448.0   19975.649684\n",
       "3     13972.0  732186.076918\n",
       "4     18321.0      58.566734\n",
       "...       ...            ...\n",
       "9995  19691.0  217537.380927\n",
       "9996  10512.0       0.000122\n",
       "9997  17741.0  913425.782931\n",
       "9998  18381.0   74434.821230\n",
       "9999  12054.0       0.836384\n",
       "\n",
       "[10000 rows x 2 columns]"
      ]
     },
     "execution_count": 21,
     "metadata": {},
     "output_type": "execute_result"
    }
   ],
   "source": [
    "data_frame"
   ]
  },
  {
   "cell_type": "code",
   "execution_count": 22,
   "id": "529f4385",
   "metadata": {},
   "outputs": [],
   "source": [
    "#finaly converting dataframe to csv\n",
    "data_frame.to_csv('predicted_data/PolynomialData_prediction_final.csv' , index = False) "
   ]
  }
 ],
 "metadata": {
  "kernelspec": {
   "display_name": "Python 3 (ipykernel)",
   "language": "python",
   "name": "python3"
  },
  "language_info": {
   "codemirror_mode": {
    "name": "ipython",
    "version": 3
   },
   "file_extension": ".py",
   "mimetype": "text/x-python",
   "name": "python",
   "nbconvert_exporter": "python",
   "pygments_lexer": "ipython3",
   "version": "3.11.5"
  }
 },
 "nbformat": 4,
 "nbformat_minor": 5
}
