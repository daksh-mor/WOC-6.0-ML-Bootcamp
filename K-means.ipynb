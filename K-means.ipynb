{
 "cells": [
  {
   "cell_type": "markdown",
   "id": "c2d245b5",
   "metadata": {},
   "source": [
    "# K means"
   ]
  },
  {
   "cell_type": "code",
   "execution_count": 1,
   "id": "416259e0",
   "metadata": {},
   "outputs": [],
   "source": [
    "# prerequisites \n",
    "import numpy as np\n",
    "import pandas as pd\n",
    "import matplotlib.pyplot as plt"
   ]
  },
  {
   "cell_type": "code",
   "execution_count": 2,
   "id": "cd89efaf",
   "metadata": {},
   "outputs": [
    {
     "data": {
      "text/html": [
       "<div>\n",
       "<style scoped>\n",
       "    .dataframe tbody tr th:only-of-type {\n",
       "        vertical-align: middle;\n",
       "    }\n",
       "\n",
       "    .dataframe tbody tr th {\n",
       "        vertical-align: top;\n",
       "    }\n",
       "\n",
       "    .dataframe thead th {\n",
       "        text-align: right;\n",
       "    }\n",
       "</style>\n",
       "<table border=\"1\" class=\"dataframe\">\n",
       "  <thead>\n",
       "    <tr style=\"text-align: right;\">\n",
       "      <th></th>\n",
       "      <th>feature0</th>\n",
       "      <th>feature1</th>\n",
       "      <th>feature2</th>\n",
       "      <th>feature3</th>\n",
       "      <th>feature4</th>\n",
       "      <th>feature5</th>\n",
       "      <th>feature6</th>\n",
       "      <th>feature7</th>\n",
       "      <th>feature8</th>\n",
       "      <th>feature9</th>\n",
       "      <th>feature10</th>\n",
       "      <th>feature11</th>\n",
       "      <th>feature12</th>\n",
       "    </tr>\n",
       "  </thead>\n",
       "  <tbody>\n",
       "    <tr>\n",
       "      <th>0</th>\n",
       "      <td>14.23</td>\n",
       "      <td>1.71</td>\n",
       "      <td>2.43</td>\n",
       "      <td>15.6</td>\n",
       "      <td>127</td>\n",
       "      <td>2.80</td>\n",
       "      <td>3.06</td>\n",
       "      <td>0.28</td>\n",
       "      <td>2.29</td>\n",
       "      <td>5.64</td>\n",
       "      <td>1.04</td>\n",
       "      <td>3.92</td>\n",
       "      <td>1065</td>\n",
       "    </tr>\n",
       "    <tr>\n",
       "      <th>1</th>\n",
       "      <td>13.20</td>\n",
       "      <td>1.78</td>\n",
       "      <td>2.14</td>\n",
       "      <td>11.2</td>\n",
       "      <td>100</td>\n",
       "      <td>2.65</td>\n",
       "      <td>2.76</td>\n",
       "      <td>0.26</td>\n",
       "      <td>1.28</td>\n",
       "      <td>4.38</td>\n",
       "      <td>1.05</td>\n",
       "      <td>3.40</td>\n",
       "      <td>1050</td>\n",
       "    </tr>\n",
       "    <tr>\n",
       "      <th>2</th>\n",
       "      <td>13.16</td>\n",
       "      <td>2.36</td>\n",
       "      <td>2.67</td>\n",
       "      <td>18.6</td>\n",
       "      <td>101</td>\n",
       "      <td>2.80</td>\n",
       "      <td>3.24</td>\n",
       "      <td>0.30</td>\n",
       "      <td>2.81</td>\n",
       "      <td>5.68</td>\n",
       "      <td>1.03</td>\n",
       "      <td>3.17</td>\n",
       "      <td>1185</td>\n",
       "    </tr>\n",
       "    <tr>\n",
       "      <th>3</th>\n",
       "      <td>14.37</td>\n",
       "      <td>1.95</td>\n",
       "      <td>2.50</td>\n",
       "      <td>16.8</td>\n",
       "      <td>113</td>\n",
       "      <td>3.85</td>\n",
       "      <td>3.49</td>\n",
       "      <td>0.24</td>\n",
       "      <td>2.18</td>\n",
       "      <td>7.80</td>\n",
       "      <td>0.86</td>\n",
       "      <td>3.45</td>\n",
       "      <td>1480</td>\n",
       "    </tr>\n",
       "    <tr>\n",
       "      <th>4</th>\n",
       "      <td>13.24</td>\n",
       "      <td>2.59</td>\n",
       "      <td>2.87</td>\n",
       "      <td>21.0</td>\n",
       "      <td>118</td>\n",
       "      <td>2.80</td>\n",
       "      <td>2.69</td>\n",
       "      <td>0.39</td>\n",
       "      <td>1.82</td>\n",
       "      <td>4.32</td>\n",
       "      <td>1.04</td>\n",
       "      <td>2.93</td>\n",
       "      <td>735</td>\n",
       "    </tr>\n",
       "    <tr>\n",
       "      <th>...</th>\n",
       "      <td>...</td>\n",
       "      <td>...</td>\n",
       "      <td>...</td>\n",
       "      <td>...</td>\n",
       "      <td>...</td>\n",
       "      <td>...</td>\n",
       "      <td>...</td>\n",
       "      <td>...</td>\n",
       "      <td>...</td>\n",
       "      <td>...</td>\n",
       "      <td>...</td>\n",
       "      <td>...</td>\n",
       "      <td>...</td>\n",
       "    </tr>\n",
       "    <tr>\n",
       "      <th>173</th>\n",
       "      <td>13.71</td>\n",
       "      <td>5.65</td>\n",
       "      <td>2.45</td>\n",
       "      <td>20.5</td>\n",
       "      <td>95</td>\n",
       "      <td>1.68</td>\n",
       "      <td>0.61</td>\n",
       "      <td>0.52</td>\n",
       "      <td>1.06</td>\n",
       "      <td>7.70</td>\n",
       "      <td>0.64</td>\n",
       "      <td>1.74</td>\n",
       "      <td>740</td>\n",
       "    </tr>\n",
       "    <tr>\n",
       "      <th>174</th>\n",
       "      <td>13.40</td>\n",
       "      <td>3.91</td>\n",
       "      <td>2.48</td>\n",
       "      <td>23.0</td>\n",
       "      <td>102</td>\n",
       "      <td>1.80</td>\n",
       "      <td>0.75</td>\n",
       "      <td>0.43</td>\n",
       "      <td>1.41</td>\n",
       "      <td>7.30</td>\n",
       "      <td>0.70</td>\n",
       "      <td>1.56</td>\n",
       "      <td>750</td>\n",
       "    </tr>\n",
       "    <tr>\n",
       "      <th>175</th>\n",
       "      <td>13.27</td>\n",
       "      <td>4.28</td>\n",
       "      <td>2.26</td>\n",
       "      <td>20.0</td>\n",
       "      <td>120</td>\n",
       "      <td>1.59</td>\n",
       "      <td>0.69</td>\n",
       "      <td>0.43</td>\n",
       "      <td>1.35</td>\n",
       "      <td>10.20</td>\n",
       "      <td>0.59</td>\n",
       "      <td>1.56</td>\n",
       "      <td>835</td>\n",
       "    </tr>\n",
       "    <tr>\n",
       "      <th>176</th>\n",
       "      <td>13.17</td>\n",
       "      <td>2.59</td>\n",
       "      <td>2.37</td>\n",
       "      <td>20.0</td>\n",
       "      <td>120</td>\n",
       "      <td>1.65</td>\n",
       "      <td>0.68</td>\n",
       "      <td>0.53</td>\n",
       "      <td>1.46</td>\n",
       "      <td>9.30</td>\n",
       "      <td>0.60</td>\n",
       "      <td>1.62</td>\n",
       "      <td>840</td>\n",
       "    </tr>\n",
       "    <tr>\n",
       "      <th>177</th>\n",
       "      <td>14.13</td>\n",
       "      <td>4.10</td>\n",
       "      <td>2.74</td>\n",
       "      <td>24.5</td>\n",
       "      <td>96</td>\n",
       "      <td>2.05</td>\n",
       "      <td>0.76</td>\n",
       "      <td>0.56</td>\n",
       "      <td>1.35</td>\n",
       "      <td>9.20</td>\n",
       "      <td>0.61</td>\n",
       "      <td>1.60</td>\n",
       "      <td>560</td>\n",
       "    </tr>\n",
       "  </tbody>\n",
       "</table>\n",
       "<p>178 rows × 13 columns</p>\n",
       "</div>"
      ],
      "text/plain": [
       "     feature0  feature1  feature2  feature3  feature4  feature5  feature6  \\\n",
       "0       14.23      1.71      2.43      15.6       127      2.80      3.06   \n",
       "1       13.20      1.78      2.14      11.2       100      2.65      2.76   \n",
       "2       13.16      2.36      2.67      18.6       101      2.80      3.24   \n",
       "3       14.37      1.95      2.50      16.8       113      3.85      3.49   \n",
       "4       13.24      2.59      2.87      21.0       118      2.80      2.69   \n",
       "..        ...       ...       ...       ...       ...       ...       ...   \n",
       "173     13.71      5.65      2.45      20.5        95      1.68      0.61   \n",
       "174     13.40      3.91      2.48      23.0       102      1.80      0.75   \n",
       "175     13.27      4.28      2.26      20.0       120      1.59      0.69   \n",
       "176     13.17      2.59      2.37      20.0       120      1.65      0.68   \n",
       "177     14.13      4.10      2.74      24.5        96      2.05      0.76   \n",
       "\n",
       "     feature7  feature8  feature9  feature10  feature11  feature12  \n",
       "0        0.28      2.29      5.64       1.04       3.92       1065  \n",
       "1        0.26      1.28      4.38       1.05       3.40       1050  \n",
       "2        0.30      2.81      5.68       1.03       3.17       1185  \n",
       "3        0.24      2.18      7.80       0.86       3.45       1480  \n",
       "4        0.39      1.82      4.32       1.04       2.93        735  \n",
       "..        ...       ...       ...        ...        ...        ...  \n",
       "173      0.52      1.06      7.70       0.64       1.74        740  \n",
       "174      0.43      1.41      7.30       0.70       1.56        750  \n",
       "175      0.43      1.35     10.20       0.59       1.56        835  \n",
       "176      0.53      1.46      9.30       0.60       1.62        840  \n",
       "177      0.56      1.35      9.20       0.61       1.60        560  \n",
       "\n",
       "[178 rows x 13 columns]"
      ]
     },
     "execution_count": 2,
     "metadata": {},
     "output_type": "execute_result"
    }
   ],
   "source": [
    "data_pd = pd.read_csv('train_data/Kmean_dataset.csv')\n",
    "data_pd"
   ]
  },
  {
   "cell_type": "code",
   "execution_count": 3,
   "id": "2f4f323f",
   "metadata": {},
   "outputs": [],
   "source": [
    "x = data_pd.to_numpy()"
   ]
  },
  {
   "cell_type": "code",
   "execution_count": 4,
   "id": "d7ac0fd7",
   "metadata": {},
   "outputs": [
    {
     "data": {
      "text/plain": [
       "1680.0"
      ]
     },
     "execution_count": 4,
     "metadata": {},
     "output_type": "execute_result"
    }
   ],
   "source": [
    "x.max() #before normalization"
   ]
  },
  {
   "cell_type": "code",
   "execution_count": 5,
   "id": "91e208e7",
   "metadata": {},
   "outputs": [],
   "source": [
    "x2 = (x-np.mean(x,axis=0))/np.std(x,axis=0)\n",
    "np.random.seed(7)"
   ]
  },
  {
   "cell_type": "code",
   "execution_count": 6,
   "id": "e823c531",
   "metadata": {},
   "outputs": [
    {
     "data": {
      "text/plain": [
       "4.371372139554768"
      ]
     },
     "execution_count": 6,
     "metadata": {},
     "output_type": "execute_result"
    }
   ],
   "source": [
    "x2.max() #after normalization"
   ]
  },
  {
   "cell_type": "code",
   "execution_count": 7,
   "id": "2a322810",
   "metadata": {},
   "outputs": [],
   "source": [
    "def Kmeans(k,x,iters):\n",
    "    mu = np.random.permutation(x)[:k,:] #randomly shuffeling the x data to get k centers for initialsing the centroids\n",
    "    for i in range(iters):\n",
    "        distance = np.sum(np.square(x),axis=1,keepdims=1)+np.sum(np.square(mu),axis=1) - 2*(x@mu.T) #shape = 178,k\n",
    "        y = np.argmin(distance,axis=1,keepdims=True)\n",
    "        for j in range(k):\n",
    "            mu[j] = np.mean(x[y.reshape(-1)==j],axis=0) #updating the centroid to the new average\n",
    "        cost = np.sum(np.square(x-mu[y.reshape(-1)]))\n",
    "    return cost"
   ]
  },
  {
   "cell_type": "code",
   "execution_count": 11,
   "id": "1145dfa1",
   "metadata": {},
   "outputs": [
    {
     "name": "stdout",
     "output_type": "stream",
     "text": [
      "[2314.0, 1658.7588524290954, 1277.928488844642, 1214.140005993505, 1169.3468737941341, 1081.112322916048, 1018.3274792902844, 948.1430298367509, 918.6207256369255, 871.9489563001846]\n",
      "Time taken = 3.4989027976989746 seconds\n"
     ]
    },
    {
     "data": {
      "image/png": "[encoded data removed]",
      "text/plain": [
       "<Figure size 640x480 with 1 Axes>"
      ]
     },
     "metadata": {},
     "output_type": "display_data"
    }
   ],
   "source": [
    "import time\n",
    "s = time.time()\n",
    "K_val = [i for i in range(1,11)]\n",
    "number_of_iterations = 500\n",
    "cost_his = []\n",
    "for k in (K_val):\n",
    "    cost_his.append(Kmeans(k,x2,number_of_iterations))\n",
    "plt.plot(K_val , cost_his,marker='o')\n",
    "plt.xlabel('Number of Clusters (K)')\n",
    "plt.ylabel('Total Cost')\n",
    "plt.title('Elbow Method')\n",
    "print(cost_his)\n",
    "print(f'Time taken = {(time.time()-s)} seconds')"
   ]
  },
  {
   "cell_type": "markdown",
   "id": "4bdb217f",
   "metadata": {},
   "source": [
    "### t-SNE method can be used for visualisation - which helps to visualise the multi dimensional data into 2 , 3.. dimensions so that it can be visualised easily."
   ]
  },
  {
   "cell_type": "markdown",
   "id": "298be3e1",
   "metadata": {},
   "source": [
    "# K = 3 will be the best choice according to elbow method"
   ]
  }
 ],
 "metadata": {
  "kernelspec": {
   "display_name": "Python 3 (ipykernel)",
   "language": "python",
   "name": "python3"
  },
  "language_info": {
   "codemirror_mode": {
    "name": "ipython",
    "version": 3
   },
   "file_extension": ".py",
   "mimetype": "text/x-python",
   "name": "python",
   "nbconvert_exporter": "python",
   "pygments_lexer": "ipython3",
   "version": "3.11.5"
  }
 },
 "nbformat": 4,
 "nbformat_minor": 5
}
